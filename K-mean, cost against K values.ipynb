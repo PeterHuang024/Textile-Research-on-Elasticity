{
 "cells": [
  {
   "cell_type": "code",
   "execution_count": 1,
   "metadata": {
    "collapsed": true
   },
   "outputs": [],
   "source": [
    "from sklearn.cluster import KMeans"
   ]
  },
  {
   "cell_type": "code",
   "execution_count": 2,
   "metadata": {
    "collapsed": true
   },
   "outputs": [],
   "source": [
    "import matplotlib\n",
    "import pandas as pd\n",
    "import codecs\n",
    "import seaborn as sns\n",
    "import matplotlib.pyplot as plt\n",
    "import numpy as np\n",
    "%matplotlib inline"
   ]
  },
  {
   "cell_type": "code",
   "execution_count": 63,
   "metadata": {
    "collapsed": true
   },
   "outputs": [],
   "source": [
    "df = pd.read_csv('modular_1080903.csv',encoding ='big5')"
   ]
  },
  {
   "cell_type": "code",
   "execution_count": 64,
   "metadata": {},
   "outputs": [],
   "source": [
    "plt.rcParams['font.sans-serif'] = ['SimHei']  # 中文字體設置-黑體\n",
    "plt.rcParams['axes.unicode_minus'] = False  # 解决保存圖像是負號'-'顯示為方快的問題\n",
    "sns.set(font='SimHei')  # 解决Seaborn中文顯示問題"
   ]
  },
  {
   "cell_type": "code",
   "execution_count": 177,
   "metadata": {
    "collapsed": true
   },
   "outputs": [],
   "source": [
    "clf = KMeans(n_clusters=3)"
   ]
  },
  {
   "cell_type": "code",
   "execution_count": 178,
   "metadata": {},
   "outputs": [],
   "source": [
    "pd.set_option('display.max_rows',300)#設置顯示列數\n",
    "pd.set_option('display.max_columns',800)"
   ]
  },
  {
   "cell_type": "code",
   "execution_count": 238,
   "metadata": {},
   "outputs": [],
   "source": [
    "df1 = df[[\"Modulus 40%_拉伸力 ( 拉力)L\",\"Modulus 40%_拉伸力 ( 拉力)W\"]]"
   ]
  },
  {
   "cell_type": "code",
   "execution_count": 239,
   "metadata": {},
   "outputs": [],
   "source": [
    "df1 = df1.fillna(0)"
   ]
  },
  {
   "cell_type": "code",
   "execution_count": 240,
   "metadata": {},
   "outputs": [],
   "source": [
    "b = df['彈性']"
   ]
  },
  {
   "cell_type": "code",
   "execution_count": 241,
   "metadata": {},
   "outputs": [],
   "source": [
    "k_3_test = pd.concat([df1,b],ignore_index = True,axis=1)"
   ]
  },
  {
   "cell_type": "code",
   "execution_count": 242,
   "metadata": {},
   "outputs": [],
   "source": [
    "k_3_test = k_3_test.drop(k_3_test.index[[10,18,20,21,22,23]])"
   ]
  },
  {
   "cell_type": "code",
   "execution_count": 243,
   "metadata": {},
   "outputs": [],
   "source": [
    "k_3_test.columns = ['w','L','彈性']\n",
    "k_3_test = k_3_test.reset_index(drop = True)"
   ]
  },
  {
   "cell_type": "code",
   "execution_count": null,
   "metadata": {},
   "outputs": [],
   "source": []
  },
  {
   "cell_type": "code",
   "execution_count": 244,
   "metadata": {},
   "outputs": [],
   "source": [
    "test = k_3_test[['w','L']]"
   ]
  },
  {
   "cell_type": "code",
   "execution_count": 245,
   "metadata": {},
   "outputs": [
    {
     "data": {
      "text/plain": [
       "KMeans(algorithm='auto', copy_x=True, init='k-means++', max_iter=300,\n",
       "    n_clusters=3, n_init=10, n_jobs=None, precompute_distances='auto',\n",
       "    random_state=None, tol=0.0001, verbose=0)"
      ]
     },
     "execution_count": 245,
     "metadata": {},
     "output_type": "execute_result"
    }
   ],
   "source": [
    "clf.fit(test)"
   ]
  },
  {
   "cell_type": "code",
   "execution_count": 246,
   "metadata": {},
   "outputs": [],
   "source": [
    "a = clf.labels_\n",
    "a = pd.DataFrame(a)"
   ]
  },
  {
   "cell_type": "code",
   "execution_count": 247,
   "metadata": {},
   "outputs": [
    {
     "data": {
      "text/plain": [
       "<matplotlib.collections.PathCollection at 0x1a22400940>"
      ]
     },
     "execution_count": 247,
     "metadata": {},
     "output_type": "execute_result"
    },
    {
     "data": {
      "image/png": "[encoded data removed]",
      "text/plain": [
       "<Figure size 576x396 with 1 Axes>"
      ]
     },
     "metadata": {},
     "output_type": "display_data"
    }
   ],
   "source": [
    "plt.scatter(k_3_test.iloc[:,0], k_3_test.iloc[:,1], c=clf.labels_)"
   ]
  },
  {
   "cell_type": "code",
   "execution_count": 248,
   "metadata": {},
   "outputs": [],
   "source": [
    "k_3_test = pd.concat([k_3_test,a],ignore_index = True,axis=1)"
   ]
  },
  {
   "cell_type": "code",
   "execution_count": 249,
   "metadata": {},
   "outputs": [],
   "source": [
    "k_3_test.columns = ['W','L','彈性','Category']"
   ]
  },
  {
   "cell_type": "code",
   "execution_count": 250,
   "metadata": {},
   "outputs": [
    {
     "data": {
      "text/html": [
       "<div>\n",
       "<style scoped>\n",
       "    .dataframe tbody tr th:only-of-type {\n",
       "        vertical-align: middle;\n",
       "    }\n",
       "\n",
       "    .dataframe tbody tr th {\n",
       "        vertical-align: top;\n",
       "    }\n",
       "\n",
       "    .dataframe thead th {\n",
       "        text-align: right;\n",
       "    }\n",
       "</style>\n",
       "<table border=\"1\" class=\"dataframe\">\n",
       "  <thead>\n",
       "    <tr style=\"text-align: right;\">\n",
       "      <th></th>\n",
       "      <th>W</th>\n",
       "      <th>L</th>\n",
       "      <th>彈性</th>\n",
       "      <th>Category</th>\n",
       "    </tr>\n",
       "  </thead>\n",
       "  <tbody>\n",
       "    <tr>\n",
       "      <th>0</th>\n",
       "      <td>107.90</td>\n",
       "      <td>168.40</td>\n",
       "      <td>中彈</td>\n",
       "      <td>0</td>\n",
       "    </tr>\n",
       "    <tr>\n",
       "      <th>1</th>\n",
       "      <td>88.20</td>\n",
       "      <td>84.40</td>\n",
       "      <td>低彈</td>\n",
       "      <td>0</td>\n",
       "    </tr>\n",
       "    <tr>\n",
       "      <th>2</th>\n",
       "      <td>410.70</td>\n",
       "      <td>393.10</td>\n",
       "      <td>高彈</td>\n",
       "      <td>1</td>\n",
       "    </tr>\n",
       "    <tr>\n",
       "      <th>3</th>\n",
       "      <td>197.10</td>\n",
       "      <td>187.90</td>\n",
       "      <td>中彈</td>\n",
       "      <td>0</td>\n",
       "    </tr>\n",
       "    <tr>\n",
       "      <th>4</th>\n",
       "      <td>294.30</td>\n",
       "      <td>384.40</td>\n",
       "      <td>中彈</td>\n",
       "      <td>2</td>\n",
       "    </tr>\n",
       "    <tr>\n",
       "      <th>5</th>\n",
       "      <td>457.50</td>\n",
       "      <td>399.10</td>\n",
       "      <td>中彈</td>\n",
       "      <td>1</td>\n",
       "    </tr>\n",
       "    <tr>\n",
       "      <th>6</th>\n",
       "      <td>685.30</td>\n",
       "      <td>445.80</td>\n",
       "      <td>中彈</td>\n",
       "      <td>1</td>\n",
       "    </tr>\n",
       "    <tr>\n",
       "      <th>7</th>\n",
       "      <td>295.30</td>\n",
       "      <td>311.40</td>\n",
       "      <td>中彈</td>\n",
       "      <td>2</td>\n",
       "    </tr>\n",
       "    <tr>\n",
       "      <th>8</th>\n",
       "      <td>165.47</td>\n",
       "      <td>175.90</td>\n",
       "      <td>中彈</td>\n",
       "      <td>0</td>\n",
       "    </tr>\n",
       "    <tr>\n",
       "      <th>9</th>\n",
       "      <td>183.56</td>\n",
       "      <td>160.20</td>\n",
       "      <td>高彈</td>\n",
       "      <td>0</td>\n",
       "    </tr>\n",
       "    <tr>\n",
       "      <th>10</th>\n",
       "      <td>194.30</td>\n",
       "      <td>255.00</td>\n",
       "      <td>高彈</td>\n",
       "      <td>2</td>\n",
       "    </tr>\n",
       "    <tr>\n",
       "      <th>11</th>\n",
       "      <td>217.14</td>\n",
       "      <td>323.08</td>\n",
       "      <td>中彈</td>\n",
       "      <td>2</td>\n",
       "    </tr>\n",
       "    <tr>\n",
       "      <th>12</th>\n",
       "      <td>109.13</td>\n",
       "      <td>190.94</td>\n",
       "      <td>中彈</td>\n",
       "      <td>0</td>\n",
       "    </tr>\n",
       "    <tr>\n",
       "      <th>13</th>\n",
       "      <td>294.60</td>\n",
       "      <td>226.00</td>\n",
       "      <td>中彈</td>\n",
       "      <td>2</td>\n",
       "    </tr>\n",
       "    <tr>\n",
       "      <th>14</th>\n",
       "      <td>236.10</td>\n",
       "      <td>332.60</td>\n",
       "      <td>中彈</td>\n",
       "      <td>2</td>\n",
       "    </tr>\n",
       "    <tr>\n",
       "      <th>15</th>\n",
       "      <td>239.70</td>\n",
       "      <td>199.10</td>\n",
       "      <td>中彈</td>\n",
       "      <td>2</td>\n",
       "    </tr>\n",
       "    <tr>\n",
       "      <th>16</th>\n",
       "      <td>108.70</td>\n",
       "      <td>185.30</td>\n",
       "      <td>中彈</td>\n",
       "      <td>0</td>\n",
       "    </tr>\n",
       "    <tr>\n",
       "      <th>17</th>\n",
       "      <td>162.60</td>\n",
       "      <td>97.10</td>\n",
       "      <td>低彈</td>\n",
       "      <td>0</td>\n",
       "    </tr>\n",
       "  </tbody>\n",
       "</table>\n",
       "</div>"
      ],
      "text/plain": [
       "         W       L  彈性  Category\n",
       "0   107.90  168.40  中彈         0\n",
       "1    88.20   84.40  低彈         0\n",
       "2   410.70  393.10  高彈         1\n",
       "3   197.10  187.90  中彈         0\n",
       "4   294.30  384.40  中彈         2\n",
       "5   457.50  399.10  中彈         1\n",
       "6   685.30  445.80  中彈         1\n",
       "7   295.30  311.40  中彈         2\n",
       "8   165.47  175.90  中彈         0\n",
       "9   183.56  160.20  高彈         0\n",
       "10  194.30  255.00  高彈         2\n",
       "11  217.14  323.08  中彈         2\n",
       "12  109.13  190.94  中彈         0\n",
       "13  294.60  226.00  中彈         2\n",
       "14  236.10  332.60  中彈         2\n",
       "15  239.70  199.10  中彈         2\n",
       "16  108.70  185.30  中彈         0\n",
       "17  162.60   97.10  低彈         0"
      ]
     },
     "execution_count": 250,
     "metadata": {},
     "output_type": "execute_result"
    }
   ],
   "source": [
    "k_3_test"
   ]
  },
  {
   "cell_type": "code",
   "execution_count": 251,
   "metadata": {},
   "outputs": [],
   "source": [
    "for i in range(len(k_3_test)):\n",
    "    if k_3_test.loc[i,'Category']==0:\n",
    "        k_3_test.loc[i,'Category']='低彈'\n",
    "    elif k_3_test.loc[i,'Category']==1:\n",
    "         k_3_test.loc[i,'Category']='高彈'\n",
    "    elif k_3_test.loc[i,'Category']==2:\n",
    "         k_3_test.loc[i,'Category']='中彈'"
   ]
  },
  {
   "cell_type": "code",
   "execution_count": 252,
   "metadata": {},
   "outputs": [
    {
     "data": {
      "text/html": [
       "<div>\n",
       "<style scoped>\n",
       "    .dataframe tbody tr th:only-of-type {\n",
       "        vertical-align: middle;\n",
       "    }\n",
       "\n",
       "    .dataframe tbody tr th {\n",
       "        vertical-align: top;\n",
       "    }\n",
       "\n",
       "    .dataframe thead th {\n",
       "        text-align: right;\n",
       "    }\n",
       "</style>\n",
       "<table border=\"1\" class=\"dataframe\">\n",
       "  <thead>\n",
       "    <tr style=\"text-align: right;\">\n",
       "      <th></th>\n",
       "      <th>W</th>\n",
       "      <th>L</th>\n",
       "      <th>彈性</th>\n",
       "      <th>Category</th>\n",
       "    </tr>\n",
       "  </thead>\n",
       "  <tbody>\n",
       "    <tr>\n",
       "      <th>0</th>\n",
       "      <td>107.90</td>\n",
       "      <td>168.40</td>\n",
       "      <td>中彈</td>\n",
       "      <td>低彈</td>\n",
       "    </tr>\n",
       "    <tr>\n",
       "      <th>1</th>\n",
       "      <td>88.20</td>\n",
       "      <td>84.40</td>\n",
       "      <td>低彈</td>\n",
       "      <td>低彈</td>\n",
       "    </tr>\n",
       "    <tr>\n",
       "      <th>2</th>\n",
       "      <td>410.70</td>\n",
       "      <td>393.10</td>\n",
       "      <td>高彈</td>\n",
       "      <td>高彈</td>\n",
       "    </tr>\n",
       "    <tr>\n",
       "      <th>3</th>\n",
       "      <td>197.10</td>\n",
       "      <td>187.90</td>\n",
       "      <td>中彈</td>\n",
       "      <td>低彈</td>\n",
       "    </tr>\n",
       "    <tr>\n",
       "      <th>4</th>\n",
       "      <td>294.30</td>\n",
       "      <td>384.40</td>\n",
       "      <td>中彈</td>\n",
       "      <td>中彈</td>\n",
       "    </tr>\n",
       "    <tr>\n",
       "      <th>5</th>\n",
       "      <td>457.50</td>\n",
       "      <td>399.10</td>\n",
       "      <td>中彈</td>\n",
       "      <td>高彈</td>\n",
       "    </tr>\n",
       "    <tr>\n",
       "      <th>6</th>\n",
       "      <td>685.30</td>\n",
       "      <td>445.80</td>\n",
       "      <td>中彈</td>\n",
       "      <td>高彈</td>\n",
       "    </tr>\n",
       "    <tr>\n",
       "      <th>7</th>\n",
       "      <td>295.30</td>\n",
       "      <td>311.40</td>\n",
       "      <td>中彈</td>\n",
       "      <td>中彈</td>\n",
       "    </tr>\n",
       "    <tr>\n",
       "      <th>8</th>\n",
       "      <td>165.47</td>\n",
       "      <td>175.90</td>\n",
       "      <td>中彈</td>\n",
       "      <td>低彈</td>\n",
       "    </tr>\n",
       "    <tr>\n",
       "      <th>9</th>\n",
       "      <td>183.56</td>\n",
       "      <td>160.20</td>\n",
       "      <td>高彈</td>\n",
       "      <td>低彈</td>\n",
       "    </tr>\n",
       "    <tr>\n",
       "      <th>10</th>\n",
       "      <td>194.30</td>\n",
       "      <td>255.00</td>\n",
       "      <td>高彈</td>\n",
       "      <td>中彈</td>\n",
       "    </tr>\n",
       "    <tr>\n",
       "      <th>11</th>\n",
       "      <td>217.14</td>\n",
       "      <td>323.08</td>\n",
       "      <td>中彈</td>\n",
       "      <td>中彈</td>\n",
       "    </tr>\n",
       "    <tr>\n",
       "      <th>12</th>\n",
       "      <td>109.13</td>\n",
       "      <td>190.94</td>\n",
       "      <td>中彈</td>\n",
       "      <td>低彈</td>\n",
       "    </tr>\n",
       "    <tr>\n",
       "      <th>13</th>\n",
       "      <td>294.60</td>\n",
       "      <td>226.00</td>\n",
       "      <td>中彈</td>\n",
       "      <td>中彈</td>\n",
       "    </tr>\n",
       "    <tr>\n",
       "      <th>14</th>\n",
       "      <td>236.10</td>\n",
       "      <td>332.60</td>\n",
       "      <td>中彈</td>\n",
       "      <td>中彈</td>\n",
       "    </tr>\n",
       "    <tr>\n",
       "      <th>15</th>\n",
       "      <td>239.70</td>\n",
       "      <td>199.10</td>\n",
       "      <td>中彈</td>\n",
       "      <td>中彈</td>\n",
       "    </tr>\n",
       "    <tr>\n",
       "      <th>16</th>\n",
       "      <td>108.70</td>\n",
       "      <td>185.30</td>\n",
       "      <td>中彈</td>\n",
       "      <td>低彈</td>\n",
       "    </tr>\n",
       "    <tr>\n",
       "      <th>17</th>\n",
       "      <td>162.60</td>\n",
       "      <td>97.10</td>\n",
       "      <td>低彈</td>\n",
       "      <td>低彈</td>\n",
       "    </tr>\n",
       "  </tbody>\n",
       "</table>\n",
       "</div>"
      ],
      "text/plain": [
       "         W       L  彈性 Category\n",
       "0   107.90  168.40  中彈       低彈\n",
       "1    88.20   84.40  低彈       低彈\n",
       "2   410.70  393.10  高彈       高彈\n",
       "3   197.10  187.90  中彈       低彈\n",
       "4   294.30  384.40  中彈       中彈\n",
       "5   457.50  399.10  中彈       高彈\n",
       "6   685.30  445.80  中彈       高彈\n",
       "7   295.30  311.40  中彈       中彈\n",
       "8   165.47  175.90  中彈       低彈\n",
       "9   183.56  160.20  高彈       低彈\n",
       "10  194.30  255.00  高彈       中彈\n",
       "11  217.14  323.08  中彈       中彈\n",
       "12  109.13  190.94  中彈       低彈\n",
       "13  294.60  226.00  中彈       中彈\n",
       "14  236.10  332.60  中彈       中彈\n",
       "15  239.70  199.10  中彈       中彈\n",
       "16  108.70  185.30  中彈       低彈\n",
       "17  162.60   97.10  低彈       低彈"
      ]
     },
     "execution_count": 252,
     "metadata": {},
     "output_type": "execute_result"
    }
   ],
   "source": [
    "k_3_test"
   ]
  },
  {
   "cell_type": "code",
   "execution_count": 263,
   "metadata": {},
   "outputs": [],
   "source": [
    "k_3_test.to_csv('kmean(3)_W,L.csv',encoding='big5')"
   ]
  },
  {
   "cell_type": "code",
   "execution_count": null,
   "metadata": {
    "collapsed": true
   },
   "outputs": [],
   "source": []
  },
  {
   "cell_type": "code",
   "execution_count": 253,
   "metadata": {
    "collapsed": true
   },
   "outputs": [],
   "source": [
    "clf_4 = KMeans(n_clusters=4)"
   ]
  },
  {
   "cell_type": "code",
   "execution_count": 254,
   "metadata": {},
   "outputs": [],
   "source": [
    "test_4 = k_3_test[['W','L']]"
   ]
  },
  {
   "cell_type": "code",
   "execution_count": 255,
   "metadata": {},
   "outputs": [
    {
     "data": {
      "text/plain": [
       "KMeans(algorithm='auto', copy_x=True, init='k-means++', max_iter=300,\n",
       "    n_clusters=4, n_init=10, n_jobs=None, precompute_distances='auto',\n",
       "    random_state=None, tol=0.0001, verbose=0)"
      ]
     },
     "execution_count": 255,
     "metadata": {},
     "output_type": "execute_result"
    }
   ],
   "source": [
    "clf_4.fit(test_4)"
   ]
  },
  {
   "cell_type": "code",
   "execution_count": 256,
   "metadata": {},
   "outputs": [],
   "source": [
    "a = clf_4.labels_\n",
    "a = pd.DataFrame(a)"
   ]
  },
  {
   "cell_type": "code",
   "execution_count": 257,
   "metadata": {},
   "outputs": [
    {
     "data": {
      "text/plain": [
       "<matplotlib.collections.PathCollection at 0x1a225a8438>"
      ]
     },
     "execution_count": 257,
     "metadata": {},
     "output_type": "execute_result"
    },
    {
     "data": {
      "image/png": "[encoded data removed]",
      "text/plain": [
       "<Figure size 576x396 with 1 Axes>"
      ]
     },
     "metadata": {},
     "output_type": "display_data"
    }
   ],
   "source": [
    "plt.scatter(test_4.iloc[:,0], test_4.iloc[:,1], c=clf_4.labels_)"
   ]
  },
  {
   "cell_type": "code",
   "execution_count": 258,
   "metadata": {
    "collapsed": true
   },
   "outputs": [],
   "source": [
    "k_4_test = k_3_test[['W','L','彈性']]\n",
    "k_4_test = pd.concat([k_4_test,a],ignore_index = True,axis=1)"
   ]
  },
  {
   "cell_type": "code",
   "execution_count": 259,
   "metadata": {
    "collapsed": true
   },
   "outputs": [],
   "source": [
    "k_4_test.columns = ['W','L','彈性','Category']"
   ]
  },
  {
   "cell_type": "code",
   "execution_count": 260,
   "metadata": {},
   "outputs": [
    {
     "data": {
      "text/html": [
       "<div>\n",
       "<style scoped>\n",
       "    .dataframe tbody tr th:only-of-type {\n",
       "        vertical-align: middle;\n",
       "    }\n",
       "\n",
       "    .dataframe tbody tr th {\n",
       "        vertical-align: top;\n",
       "    }\n",
       "\n",
       "    .dataframe thead th {\n",
       "        text-align: right;\n",
       "    }\n",
       "</style>\n",
       "<table border=\"1\" class=\"dataframe\">\n",
       "  <thead>\n",
       "    <tr style=\"text-align: right;\">\n",
       "      <th></th>\n",
       "      <th>W</th>\n",
       "      <th>L</th>\n",
       "      <th>彈性</th>\n",
       "      <th>Category</th>\n",
       "    </tr>\n",
       "  </thead>\n",
       "  <tbody>\n",
       "    <tr>\n",
       "      <th>0</th>\n",
       "      <td>107.90</td>\n",
       "      <td>168.40</td>\n",
       "      <td>中彈</td>\n",
       "      <td>0</td>\n",
       "    </tr>\n",
       "    <tr>\n",
       "      <th>1</th>\n",
       "      <td>88.20</td>\n",
       "      <td>84.40</td>\n",
       "      <td>低彈</td>\n",
       "      <td>0</td>\n",
       "    </tr>\n",
       "    <tr>\n",
       "      <th>2</th>\n",
       "      <td>410.70</td>\n",
       "      <td>393.10</td>\n",
       "      <td>高彈</td>\n",
       "      <td>1</td>\n",
       "    </tr>\n",
       "    <tr>\n",
       "      <th>3</th>\n",
       "      <td>197.10</td>\n",
       "      <td>187.90</td>\n",
       "      <td>中彈</td>\n",
       "      <td>0</td>\n",
       "    </tr>\n",
       "    <tr>\n",
       "      <th>4</th>\n",
       "      <td>294.30</td>\n",
       "      <td>384.40</td>\n",
       "      <td>中彈</td>\n",
       "      <td>2</td>\n",
       "    </tr>\n",
       "    <tr>\n",
       "      <th>5</th>\n",
       "      <td>457.50</td>\n",
       "      <td>399.10</td>\n",
       "      <td>中彈</td>\n",
       "      <td>1</td>\n",
       "    </tr>\n",
       "    <tr>\n",
       "      <th>6</th>\n",
       "      <td>685.30</td>\n",
       "      <td>445.80</td>\n",
       "      <td>中彈</td>\n",
       "      <td>3</td>\n",
       "    </tr>\n",
       "    <tr>\n",
       "      <th>7</th>\n",
       "      <td>295.30</td>\n",
       "      <td>311.40</td>\n",
       "      <td>中彈</td>\n",
       "      <td>2</td>\n",
       "    </tr>\n",
       "    <tr>\n",
       "      <th>8</th>\n",
       "      <td>165.47</td>\n",
       "      <td>175.90</td>\n",
       "      <td>中彈</td>\n",
       "      <td>0</td>\n",
       "    </tr>\n",
       "    <tr>\n",
       "      <th>9</th>\n",
       "      <td>183.56</td>\n",
       "      <td>160.20</td>\n",
       "      <td>高彈</td>\n",
       "      <td>0</td>\n",
       "    </tr>\n",
       "    <tr>\n",
       "      <th>10</th>\n",
       "      <td>194.30</td>\n",
       "      <td>255.00</td>\n",
       "      <td>高彈</td>\n",
       "      <td>2</td>\n",
       "    </tr>\n",
       "    <tr>\n",
       "      <th>11</th>\n",
       "      <td>217.14</td>\n",
       "      <td>323.08</td>\n",
       "      <td>中彈</td>\n",
       "      <td>2</td>\n",
       "    </tr>\n",
       "    <tr>\n",
       "      <th>12</th>\n",
       "      <td>109.13</td>\n",
       "      <td>190.94</td>\n",
       "      <td>中彈</td>\n",
       "      <td>0</td>\n",
       "    </tr>\n",
       "    <tr>\n",
       "      <th>13</th>\n",
       "      <td>294.60</td>\n",
       "      <td>226.00</td>\n",
       "      <td>中彈</td>\n",
       "      <td>2</td>\n",
       "    </tr>\n",
       "    <tr>\n",
       "      <th>14</th>\n",
       "      <td>236.10</td>\n",
       "      <td>332.60</td>\n",
       "      <td>中彈</td>\n",
       "      <td>2</td>\n",
       "    </tr>\n",
       "    <tr>\n",
       "      <th>15</th>\n",
       "      <td>239.70</td>\n",
       "      <td>199.10</td>\n",
       "      <td>中彈</td>\n",
       "      <td>2</td>\n",
       "    </tr>\n",
       "    <tr>\n",
       "      <th>16</th>\n",
       "      <td>108.70</td>\n",
       "      <td>185.30</td>\n",
       "      <td>中彈</td>\n",
       "      <td>0</td>\n",
       "    </tr>\n",
       "    <tr>\n",
       "      <th>17</th>\n",
       "      <td>162.60</td>\n",
       "      <td>97.10</td>\n",
       "      <td>低彈</td>\n",
       "      <td>0</td>\n",
       "    </tr>\n",
       "  </tbody>\n",
       "</table>\n",
       "</div>"
      ],
      "text/plain": [
       "         W       L  彈性  Category\n",
       "0   107.90  168.40  中彈         0\n",
       "1    88.20   84.40  低彈         0\n",
       "2   410.70  393.10  高彈         1\n",
       "3   197.10  187.90  中彈         0\n",
       "4   294.30  384.40  中彈         2\n",
       "5   457.50  399.10  中彈         1\n",
       "6   685.30  445.80  中彈         3\n",
       "7   295.30  311.40  中彈         2\n",
       "8   165.47  175.90  中彈         0\n",
       "9   183.56  160.20  高彈         0\n",
       "10  194.30  255.00  高彈         2\n",
       "11  217.14  323.08  中彈         2\n",
       "12  109.13  190.94  中彈         0\n",
       "13  294.60  226.00  中彈         2\n",
       "14  236.10  332.60  中彈         2\n",
       "15  239.70  199.10  中彈         2\n",
       "16  108.70  185.30  中彈         0\n",
       "17  162.60   97.10  低彈         0"
      ]
     },
     "execution_count": 260,
     "metadata": {},
     "output_type": "execute_result"
    }
   ],
   "source": [
    "k_4_test"
   ]
  },
  {
   "cell_type": "code",
   "execution_count": 261,
   "metadata": {},
   "outputs": [],
   "source": [
    "for i in range(len(k_4_test)):\n",
    "    if k_4_test.loc[i,'Category']==3:\n",
    "        k_4_test.loc[i,'Category']='四級'\n",
    "    elif k_4_test.loc[i,'Category']==1:\n",
    "         k_4_test.loc[i,'Category']='三級'\n",
    "    elif k_4_test.loc[i,'Category']==2:\n",
    "         k_4_test.loc[i,'Category']='二級'\n",
    "    elif k_4_test.loc[i,'Category']==0:\n",
    "         k_4_test.loc[i,'Category']='ㄧ級'"
   ]
  },
  {
   "cell_type": "code",
   "execution_count": 262,
   "metadata": {},
   "outputs": [
    {
     "data": {
      "text/html": [
       "<div>\n",
       "<style scoped>\n",
       "    .dataframe tbody tr th:only-of-type {\n",
       "        vertical-align: middle;\n",
       "    }\n",
       "\n",
       "    .dataframe tbody tr th {\n",
       "        vertical-align: top;\n",
       "    }\n",
       "\n",
       "    .dataframe thead th {\n",
       "        text-align: right;\n",
       "    }\n",
       "</style>\n",
       "<table border=\"1\" class=\"dataframe\">\n",
       "  <thead>\n",
       "    <tr style=\"text-align: right;\">\n",
       "      <th></th>\n",
       "      <th>W</th>\n",
       "      <th>L</th>\n",
       "      <th>彈性</th>\n",
       "      <th>Category</th>\n",
       "    </tr>\n",
       "  </thead>\n",
       "  <tbody>\n",
       "    <tr>\n",
       "      <th>0</th>\n",
       "      <td>107.90</td>\n",
       "      <td>168.40</td>\n",
       "      <td>中彈</td>\n",
       "      <td>ㄧ級</td>\n",
       "    </tr>\n",
       "    <tr>\n",
       "      <th>1</th>\n",
       "      <td>88.20</td>\n",
       "      <td>84.40</td>\n",
       "      <td>低彈</td>\n",
       "      <td>ㄧ級</td>\n",
       "    </tr>\n",
       "    <tr>\n",
       "      <th>2</th>\n",
       "      <td>410.70</td>\n",
       "      <td>393.10</td>\n",
       "      <td>高彈</td>\n",
       "      <td>三級</td>\n",
       "    </tr>\n",
       "    <tr>\n",
       "      <th>3</th>\n",
       "      <td>197.10</td>\n",
       "      <td>187.90</td>\n",
       "      <td>中彈</td>\n",
       "      <td>ㄧ級</td>\n",
       "    </tr>\n",
       "    <tr>\n",
       "      <th>4</th>\n",
       "      <td>294.30</td>\n",
       "      <td>384.40</td>\n",
       "      <td>中彈</td>\n",
       "      <td>二級</td>\n",
       "    </tr>\n",
       "    <tr>\n",
       "      <th>5</th>\n",
       "      <td>457.50</td>\n",
       "      <td>399.10</td>\n",
       "      <td>中彈</td>\n",
       "      <td>三級</td>\n",
       "    </tr>\n",
       "    <tr>\n",
       "      <th>6</th>\n",
       "      <td>685.30</td>\n",
       "      <td>445.80</td>\n",
       "      <td>中彈</td>\n",
       "      <td>四級</td>\n",
       "    </tr>\n",
       "    <tr>\n",
       "      <th>7</th>\n",
       "      <td>295.30</td>\n",
       "      <td>311.40</td>\n",
       "      <td>中彈</td>\n",
       "      <td>二級</td>\n",
       "    </tr>\n",
       "    <tr>\n",
       "      <th>8</th>\n",
       "      <td>165.47</td>\n",
       "      <td>175.90</td>\n",
       "      <td>中彈</td>\n",
       "      <td>ㄧ級</td>\n",
       "    </tr>\n",
       "    <tr>\n",
       "      <th>9</th>\n",
       "      <td>183.56</td>\n",
       "      <td>160.20</td>\n",
       "      <td>高彈</td>\n",
       "      <td>ㄧ級</td>\n",
       "    </tr>\n",
       "    <tr>\n",
       "      <th>10</th>\n",
       "      <td>194.30</td>\n",
       "      <td>255.00</td>\n",
       "      <td>高彈</td>\n",
       "      <td>二級</td>\n",
       "    </tr>\n",
       "    <tr>\n",
       "      <th>11</th>\n",
       "      <td>217.14</td>\n",
       "      <td>323.08</td>\n",
       "      <td>中彈</td>\n",
       "      <td>二級</td>\n",
       "    </tr>\n",
       "    <tr>\n",
       "      <th>12</th>\n",
       "      <td>109.13</td>\n",
       "      <td>190.94</td>\n",
       "      <td>中彈</td>\n",
       "      <td>ㄧ級</td>\n",
       "    </tr>\n",
       "    <tr>\n",
       "      <th>13</th>\n",
       "      <td>294.60</td>\n",
       "      <td>226.00</td>\n",
       "      <td>中彈</td>\n",
       "      <td>二級</td>\n",
       "    </tr>\n",
       "    <tr>\n",
       "      <th>14</th>\n",
       "      <td>236.10</td>\n",
       "      <td>332.60</td>\n",
       "      <td>中彈</td>\n",
       "      <td>二級</td>\n",
       "    </tr>\n",
       "    <tr>\n",
       "      <th>15</th>\n",
       "      <td>239.70</td>\n",
       "      <td>199.10</td>\n",
       "      <td>中彈</td>\n",
       "      <td>二級</td>\n",
       "    </tr>\n",
       "    <tr>\n",
       "      <th>16</th>\n",
       "      <td>108.70</td>\n",
       "      <td>185.30</td>\n",
       "      <td>中彈</td>\n",
       "      <td>ㄧ級</td>\n",
       "    </tr>\n",
       "    <tr>\n",
       "      <th>17</th>\n",
       "      <td>162.60</td>\n",
       "      <td>97.10</td>\n",
       "      <td>低彈</td>\n",
       "      <td>ㄧ級</td>\n",
       "    </tr>\n",
       "  </tbody>\n",
       "</table>\n",
       "</div>"
      ],
      "text/plain": [
       "         W       L  彈性 Category\n",
       "0   107.90  168.40  中彈       ㄧ級\n",
       "1    88.20   84.40  低彈       ㄧ級\n",
       "2   410.70  393.10  高彈       三級\n",
       "3   197.10  187.90  中彈       ㄧ級\n",
       "4   294.30  384.40  中彈       二級\n",
       "5   457.50  399.10  中彈       三級\n",
       "6   685.30  445.80  中彈       四級\n",
       "7   295.30  311.40  中彈       二級\n",
       "8   165.47  175.90  中彈       ㄧ級\n",
       "9   183.56  160.20  高彈       ㄧ級\n",
       "10  194.30  255.00  高彈       二級\n",
       "11  217.14  323.08  中彈       二級\n",
       "12  109.13  190.94  中彈       ㄧ級\n",
       "13  294.60  226.00  中彈       二級\n",
       "14  236.10  332.60  中彈       二級\n",
       "15  239.70  199.10  中彈       二級\n",
       "16  108.70  185.30  中彈       ㄧ級\n",
       "17  162.60   97.10  低彈       ㄧ級"
      ]
     },
     "execution_count": 262,
     "metadata": {},
     "output_type": "execute_result"
    }
   ],
   "source": [
    "k_4_test"
   ]
  },
  {
   "cell_type": "code",
   "execution_count": 264,
   "metadata": {
    "collapsed": true
   },
   "outputs": [],
   "source": [
    "k_4_test.to_csv('kmean(4)_W,L.csv',encoding='big5')"
   ]
  },
  {
   "cell_type": "code",
   "execution_count": null,
   "metadata": {},
   "outputs": [],
   "source": []
  },
  {
   "cell_type": "code",
   "execution_count": null,
   "metadata": {},
   "outputs": [],
   "source": []
  },
  {
   "cell_type": "code",
   "execution_count": 173,
   "metadata": {},
   "outputs": [],
   "source": [
    "x = k_4_test[['W','L']]"
   ]
  },
  {
   "cell_type": "code",
   "execution_count": 175,
   "metadata": {},
   "outputs": [
    {
     "data": {
      "image/png": "[encoded data removed]",
      "text/plain": [
       "<Figure size 576x396 with 1 Axes>"
      ]
     },
     "metadata": {},
     "output_type": "display_data"
    }
   ],
   "source": [
    "cost =[] \n",
    "for i in range(1, 11): \n",
    "    KM = KMeans(n_clusters = i, max_iter = 500) \n",
    "    KM.fit(x) \n",
    "      \n",
    "    # calculates squared error \n",
    "    # for the clustered points \n",
    "    cost.append(KM.inertia_)      \n",
    "  \n",
    "# plot the cost against K values \n",
    "plt.plot(range(1, 11), cost, color ='g', linewidth ='3') \n",
    "plt.xlabel(\"Value of K\") \n",
    "plt.ylabel(\"Sqaured Error (Cost)\") \n",
    "plt.show() # clear the plot "
   ]
  },
  {
   "cell_type": "code",
   "execution_count": null,
   "metadata": {},
   "outputs": [],
   "source": []
  },
  {
   "cell_type": "code",
   "execution_count": null,
   "metadata": {
    "collapsed": true
   },
   "outputs": [],
   "source": []
  }
 ],
 "metadata": {
  "kernelspec": {
   "display_name": "Python 3",
   "language": "python",
   "name": "python3"
  },
  "language_info": {
   "codemirror_mode": {
    "name": "ipython",
    "version": 3
   },
   "file_extension": ".py",
   "mimetype": "text/x-python",
   "name": "python",
   "nbconvert_exporter": "python",
   "pygments_lexer": "ipython3",
   "version": "3.6.7"
  }
 },
 "nbformat": 4,
 "nbformat_minor": 2
}
